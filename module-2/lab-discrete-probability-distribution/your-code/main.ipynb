{
 "cells": [
  {
   "cell_type": "markdown",
   "metadata": {},
   "source": [
    "# Before your start:\n",
    "\n",
    "    Read the README.md file\n",
    "    Comment as much as you can and use the resources (README.md file)\n",
    "    Happy learning!\n",
    "\n",
    "*Notes:* \n",
    "\n",
    "- Solve the questions with python.\n",
    "\n",
    "- Round the final answer to three decimal places."
   ]
  },
  {
   "cell_type": "markdown",
   "metadata": {},
   "source": [
    "## Bernoulli's Distribution\n",
    "\n",
    "In a basket containing 100 fruits, there are 60 apples and 40 oranges. \n",
    "\n",
    "A fruit is picked randomly from the basket. \n",
    "\n",
    "1. **What is the probability that the fruit is apple?**\n",
    "1. **What is the probability that it is an orange?**"
   ]
  },
  {
   "cell_type": "code",
   "execution_count": 4,
   "metadata": {},
   "outputs": [],
   "source": [
    "\"\"\"\n",
    "Calculate:\n",
    "p = probability that the fruit is an apple \n",
    "q = probability that the fruit is an orange\n",
    "\"\"\"\n",
    "p = 0.6\n",
    "q = 0.4\n",
    "# your code here"
   ]
  },
  {
   "cell_type": "markdown",
   "metadata": {},
   "source": [
    "Now we take a random sample of 20 fruits from the basket. After each fruit is taken, a new fruit of the same type is replaced in the basket. Therefore, every time we are taking 1 fruit from 100 fruits. \n",
    "\n",
    "1. **What is the probability that the first 5 fruits are all apples?**\n",
    "\n",
    "1. **What is the probability that the first 5 fruits are all apples and the next 15 fruits are all oranges?**\n",
    "\n",
    "You can include the `p` and `q` probabilities you previous calculated in your solution."
   ]
  },
  {
   "cell_type": "code",
   "execution_count": 7,
   "metadata": {},
   "outputs": [
    {
     "name": "stdout",
     "output_type": "stream",
     "text": [
      "0.07775999999999998\n",
      "8.349416423424006e-08\n"
     ]
    }
   ],
   "source": [
    "# your code here\n",
    "pr_5_apple = p**5\n",
    "pr_5_15 = p**5*q**15\n",
    "print(pr_5_apple)\n",
    "print(pr_5_15)"
   ]
  },
  {
   "cell_type": "markdown",
   "metadata": {},
   "source": [
    "## Binomial Distribution\n",
    "\n",
    "Similar to the above problem, this time again we randomly sample 20 fruits.\n",
    "\n",
    "**What is the probability that this time the sample contains 5 apples and 15 oranges?**\n",
    "\n",
    "Please note that this time the order of the fruits being picked does not matter."
   ]
  },
  {
   "cell_type": "code",
   "execution_count": 23,
   "metadata": {},
   "outputs": [
    {
     "data": {
      "text/plain": [
       "0.0012944935222876511"
      ]
     },
     "execution_count": 23,
     "metadata": {},
     "output_type": "execute_result"
    }
   ],
   "source": [
    "# your code here\n",
    "from scipy.stats import binom\n",
    "p = 0.6\n",
    "N = 20\n",
    "my_binomial = binom(N, p)\n",
    "my_binomial.pmf(5)"
   ]
  },
  {
   "cell_type": "markdown",
   "metadata": {},
   "source": [
    "In the lesson we also discussed CDF (cumulative distribution function). In the context of the above problem, **what is the probability that less than 5 fruits picked are apples?**\n",
    "\n",
    "Write the formula and calculate the probability below."
   ]
  },
  {
   "cell_type": "code",
   "execution_count": 12,
   "metadata": {},
   "outputs": [
    {
     "data": {
      "text/plain": [
       "0.001611524643456288"
      ]
     },
     "execution_count": 12,
     "metadata": {},
     "output_type": "execute_result"
    }
   ],
   "source": [
    "# your code here\n",
    "my_binomial.cdf(5)\n",
    "# ES la suma de todas las probabilidad menores que 5 y la de 5"
   ]
  },
  {
   "cell_type": "markdown",
   "metadata": {},
   "source": [
    "**Plot the PDF (probability distributiom function) for the above binomial distribution.**\n",
    "\n",
    "*Hint: The range of x in a binomial distribution is from `0` to `n`.*"
   ]
  },
  {
   "cell_type": "code",
   "execution_count": 16,
   "metadata": {},
   "outputs": [
    {
     "data": {
      "text/plain": [
       "<matplotlib.collections.LineCollection at 0x7f001a888520>"
      ]
     },
     "execution_count": 16,
     "metadata": {},
     "output_type": "execute_result"
    },
    {
     "data": {
      "image/png": "[encoded data removed]",
      "text/plain": [
       "<Figure size 432x288 with 1 Axes>"
      ]
     },
     "metadata": {
      "needs_background": "light"
     },
     "output_type": "display_data"
    }
   ],
   "source": [
    "# your code here\n",
    "import matplotlib.pyplot as plt\n",
    "import seaborn as sns\n",
    "import numpy as np\n",
    "x = np.arange(0,21)\n",
    "fig, ax = plt.subplots(1, 1)\n",
    "ax.plot(x, my_binomial.pmf(x), 'bo')\n",
    "ax.vlines(x, 0, my_binomial.pmf(x), colors='b', lw=5, alpha=0.5)\n",
    "\n",
    "# Please label the axes and give a title to the plot "
   ]
  },
  {
   "cell_type": "code",
   "execution_count": 17,
   "metadata": {},
   "outputs": [
    {
     "data": {
      "text/plain": [
       "<AxesSubplot:ylabel='count'>"
      ]
     },
     "execution_count": 17,
     "metadata": {},
     "output_type": "execute_result"
    },
    {
     "data": {
      "image/png": "[encoded data removed]",
      "text/plain": [
       "<Figure size 432x288 with 1 Axes>"
      ]
     },
     "metadata": {
      "needs_background": "light"
     },
     "output_type": "display_data"
    }
   ],
   "source": [
    "sns.countplot(x=my_binomial.rvs(size=10000))"
   ]
  },
  {
   "cell_type": "markdown",
   "metadata": {},
   "source": [
    "## Poisson Distribution\n",
    "\n",
    "In this challenge you are required to use the Math library in python to solve the problems.\n",
    "\n",
    "In the UEFA champions league tournament, the average number of goals scored in a match is 2.3. \n",
    "\n",
    "**What is the probability that the number of goals scored in a match is 5?**\n",
    "\n",
    "*Hint: Use the exp() in the math library*\n",
    "\n",
    "And to calculate the factorial, you can use the following code:\n",
    "\n",
    "```python\n",
    "import math\n",
    "math.factorial(n) # n is the number you want to find the factorial of\n",
    "```"
   ]
  },
  {
   "cell_type": "code",
   "execution_count": 19,
   "metadata": {},
   "outputs": [
    {
     "data": {
      "text/plain": [
       "0.053775025581946814"
      ]
     },
     "execution_count": 19,
     "metadata": {},
     "output_type": "execute_result"
    }
   ],
   "source": [
    "import math\n",
    "from scipy.stats import poisson\n",
    "# your code here \n",
    "my_poisson = poisson(mu=2.3)\n",
    "my_poisson.pmf(5)\n",
    "\n",
    "\n"
   ]
  },
  {
   "cell_type": "markdown",
   "metadata": {},
   "source": [
    "**Draw a poisson probability distribution plot for the number of goals to be between 0 to 10.**"
   ]
  },
  {
   "cell_type": "code",
   "execution_count": 20,
   "metadata": {},
   "outputs": [
    {
     "data": {
      "text/plain": [
       "array([3, 2, 2, 4, 3, 2, 1, 1, 4, 1, 4, 1, 5, 3, 0, 3, 3, 0, 7, 2, 5, 2,\n",
       "       3, 0, 2, 0, 4, 2, 1, 0, 1, 3, 6, 4, 1, 2, 2, 5, 3, 0, 4, 1, 3, 3,\n",
       "       4, 1, 0, 1, 1, 0, 1, 0, 1, 1, 1, 2, 3, 3, 1, 0, 5, 0, 3, 3, 5, 2,\n",
       "       3, 3, 1, 2, 5, 2, 6, 1, 0, 1, 1, 2, 2, 0, 6, 2, 2, 1, 0, 2, 3, 1,\n",
       "       6, 2, 4, 3, 2, 1, 3, 1, 2, 2, 3, 3, 4, 2, 0, 3, 1, 2, 2, 1, 1, 2,\n",
       "       1, 5, 2, 1, 2, 5, 0, 4, 2, 1, 2, 1, 2, 4, 2, 1, 0, 3, 3, 2, 2, 4,\n",
       "       4, 1, 2, 2, 4, 1, 3, 3, 3, 4, 4, 1, 3, 2, 2, 1, 2, 3, 2, 2, 2, 1,\n",
       "       1, 3, 1, 2, 2, 2, 2, 4, 3, 5, 4, 3, 4, 2, 4, 2, 4, 4, 1, 2, 4, 3,\n",
       "       1, 2, 1, 5, 2, 2, 3, 1, 3, 1, 3, 2, 4, 6, 0, 3, 3, 2, 2, 0, 1, 2,\n",
       "       3, 3, 1, 0, 4, 1, 4, 1, 3, 5, 1, 6, 2, 1, 1, 2, 2, 2, 0, 1, 4, 1,\n",
       "       2, 4, 2, 2, 1, 0, 1, 2, 1, 4, 3, 4, 2, 2, 2, 5, 2, 3, 1, 1, 3, 2,\n",
       "       4, 2, 2, 5, 4, 3, 2, 2, 5, 3, 2, 0, 1, 4, 2, 1, 1, 5, 4, 6, 3, 2,\n",
       "       1, 5, 2, 1, 1, 3, 3, 1, 1, 2, 1, 6, 4, 1, 3, 1, 3, 1, 3, 1, 1, 6,\n",
       "       4, 2, 3, 6, 4, 2, 1, 2, 1, 1, 2, 3, 1, 3, 2, 1, 4, 4, 3, 2, 4, 1,\n",
       "       6, 5, 1, 2, 3, 2, 6, 0, 5, 2, 2, 1, 0, 0, 4, 2, 1, 2, 2, 1, 1, 4,\n",
       "       0, 4, 2, 5, 3, 2, 5, 4, 3, 2, 1, 1, 2, 3, 2, 1, 3, 6, 1, 2, 3, 3,\n",
       "       2, 1, 1, 3, 5, 0, 1, 6, 3, 3, 2, 1, 2])"
      ]
     },
     "execution_count": 20,
     "metadata": {},
     "output_type": "execute_result"
    }
   ],
   "source": [
    "# your code here\n",
    "# Please label the axes and give a title to the plot \n",
    "sample = my_poisson.rvs(size=365)\n",
    "sample"
   ]
  },
  {
   "cell_type": "code",
   "execution_count": 21,
   "metadata": {},
   "outputs": [
    {
     "data": {
      "text/plain": [
       "<matplotlib.collections.LineCollection at 0x7f001a7364f0>"
      ]
     },
     "execution_count": 21,
     "metadata": {},
     "output_type": "execute_result"
    },
    {
     "data": {
      "image/png": "[encoded data removed]",
      "text/plain": [
       "<Figure size 432x288 with 1 Axes>"
      ]
     },
     "metadata": {
      "needs_background": "light"
     },
     "output_type": "display_data"
    }
   ],
   "source": [
    "x = np.arange(0,11)\n",
    "fig, ax = plt.subplots(1, 1)\n",
    "ax.plot(x, my_poisson.pmf(x), 'bo')\n",
    "ax.vlines(x, 0, my_poisson.pmf(x), colors='b', lw=5, alpha=0.5)"
   ]
  },
  {
   "cell_type": "code",
   "execution_count": 22,
   "metadata": {},
   "outputs": [
    {
     "data": {
      "text/plain": [
       "<AxesSubplot:ylabel='count'>"
      ]
     },
     "execution_count": 22,
     "metadata": {},
     "output_type": "execute_result"
    },
    {
     "data": {
      "image/png": "[encoded data removed]",
      "text/plain": [
       "<Figure size 432x288 with 1 Axes>"
      ]
     },
     "metadata": {
      "needs_background": "light"
     },
     "output_type": "display_data"
    }
   ],
   "source": [
    "sns.countplot(x=sample)"
   ]
  },
  {
   "cell_type": "code",
   "execution_count": null,
   "metadata": {},
   "outputs": [],
   "source": []
  }
 ],
 "metadata": {
  "kernelspec": {
   "display_name": "Python 3",
   "language": "python",
   "name": "python3"
  },
  "language_info": {
   "codemirror_mode": {
    "name": "ipython",
    "version": 3
   },
   "file_extension": ".py",
   "mimetype": "text/x-python",
   "name": "python",
   "nbconvert_exporter": "python",
   "pygments_lexer": "ipython3",
   "version": "3.8.5"
  }
 },
 "nbformat": 4,
 "nbformat_minor": 2
}
