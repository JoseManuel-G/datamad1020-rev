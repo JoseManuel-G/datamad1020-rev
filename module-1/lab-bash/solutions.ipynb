{
 "cells": [
  {
   "cell_type": "markdown",
   "metadata": {},
   "source": [
    "#### Imprime en consola Hello World."
   ]
  },
  {
   "cell_type": "markdown",
   "metadata": {},
   "source": [
    "Your solution here: \"hello word\"\n"
   ]
  },
  {
   "cell_type": "markdown",
   "metadata": {},
   "source": [
    "#### Crea un directorio nuevo llamado new_dir."
   ]
  },
  {
   "cell_type": "markdown",
   "metadata": {},
   "source": [
    "Your solution here: mkdir new_dir:\n"
   ]
  },
  {
   "cell_type": "markdown",
   "metadata": {},
   "source": [
    "#### Elimina ese directorio."
   ]
  },
  {
   "cell_type": "markdown",
   "metadata": {},
   "source": [
    "Your solution here: rmdir new_dir\n"
   ]
  },
  {
   "cell_type": "markdown",
   "metadata": {},
   "source": [
    "#### Copia el archivo sed.txt dentro de la carpeta lorem a la carpeta lorem-copy."
   ]
  },
  {
   "cell_type": "markdown",
   "metadata": {},
   "source": [
    "cp lorem/sed.txt lorem-copy"
   ]
  },
  {
   "cell_type": "markdown",
   "metadata": {},
   "source": [
    "#### Copia los otros dos archivos de la carpeta lorem a la carpeta lorem-copy en una sola línea mediante ;."
   ]
  },
  {
   "cell_type": "markdown",
   "metadata": {},
   "source": [
    "cp lorem/at.txt lorem-copy; cp lorem/lorem.txt lorem-copy"
   ]
  },
  {
   "cell_type": "markdown",
   "metadata": {},
   "source": [
    "#### Muestra el contenido del archivo sed.txt dentro de la carpeta lorem."
   ]
  },
  {
   "cell_type": "markdown",
   "metadata": {},
   "source": [
    "cat sed.txt"
   ]
  },
  {
   "cell_type": "markdown",
   "metadata": {},
   "source": [
    "#### Muestra el contenido de los archivos at.txt y lorem.txt dentro de la carpeta lorem."
   ]
  },
  {
   "cell_type": "markdown",
   "metadata": {},
   "source": [
    "cat at.txt; cat lorem.txt"
   ]
  },
  {
   "cell_type": "markdown",
   "metadata": {},
   "source": [
    "#### Visualiza las primeras 3 líneas del archivo sed.txt dentro de la carpeta lorem-copy"
   ]
  },
  {
   "cell_type": "markdown",
   "metadata": {},
   "source": [
    "head -n 3 sed.txt"
   ]
  },
  {
   "cell_type": "markdown",
   "metadata": {},
   "source": [
    "#### Visualiza las ultimas 3 líneas del archivo sed.txt dentro de la carpeta lorem-copy"
   ]
  },
  {
   "cell_type": "markdown",
   "metadata": {},
   "source": [
    "tail -n 3 sed.txt"
   ]
  },
  {
   "cell_type": "markdown",
   "metadata": {},
   "source": [
    "#### Añade Homo homini lupus. al final de archivo sed.txt dentro de la carpeta lorem-copy.\n",
    "\n"
   ]
  },
  {
   "cell_type": "markdown",
   "metadata": {},
   "source": [
    "echo Homo homini lupus >> sed.txt"
   ]
  },
  {
   "cell_type": "markdown",
   "metadata": {},
   "source": [
    "#### Visualiza las últimas 3 líneas del archivo sed.txt dentro de la carpeta lorem-copy. Deberías ver ahora Homo homini lupus.."
   ]
  },
  {
   "cell_type": "markdown",
   "metadata": {},
   "source": [
    "tail -n 3 sed.txt"
   ]
  },
  {
   "cell_type": "markdown",
   "metadata": {},
   "source": [
    "#### Sustituye todas las apariciones de et por ET del archivo at.txt dentro de la carpeta lorem-copy. Deberás usar sed."
   ]
  },
  {
   "cell_type": "markdown",
   "metadata": {},
   "source": [
    "sed 's/et/ET/' at.txt"
   ]
  },
  {
   "cell_type": "markdown",
   "metadata": {},
   "source": [
    "#### Encuentra al usuario activo en el sistema."
   ]
  },
  {
   "cell_type": "markdown",
   "metadata": {},
   "source": [
    "id -un"
   ]
  },
  {
   "cell_type": "markdown",
   "metadata": {},
   "source": [
    "#### Encuentra dónde estás en tu sistema de ficheros."
   ]
  },
  {
   "cell_type": "markdown",
   "metadata": {},
   "source": [
    "pwd"
   ]
  },
  {
   "cell_type": "markdown",
   "metadata": {},
   "source": [
    "#### Lista los archivos que terminan por .txt en la carpeta lorem."
   ]
  },
  {
   "cell_type": "markdown",
   "metadata": {},
   "source": [
    "ls *.txt"
   ]
  },
  {
   "cell_type": "markdown",
   "metadata": {},
   "source": [
    "#### Cuenta el número de líneas que tiene el archivo sed.txt dentro de la carpeta lorem."
   ]
  },
  {
   "cell_type": "markdown",
   "metadata": {},
   "source": [
    "cat sed.txt | wc -l"
   ]
  },
  {
   "cell_type": "markdown",
   "metadata": {},
   "source": [
    "#### Cuenta el número de archivos que empiezan por lorem que están en este directorio y en directorios internos."
   ]
  },
  {
   "cell_type": "markdown",
   "metadata": {},
   "source": [
    "find . -name \"lorem.txt\" | wc -l"
   ]
  },
  {
   "cell_type": "markdown",
   "metadata": {},
   "source": [
    "#### Encuentra todas las apariciones de et en at.txt dentro de la carpeta lorem."
   ]
  },
  {
   "cell_type": "markdown",
   "metadata": {},
   "source": [
    "grep -r -i \"et\" at.txt"
   ]
  },
  {
   "cell_type": "markdown",
   "metadata": {},
   "source": [
    "#### Cuenta el número de apariciones del string et en at.txt dentro de la carpeta lorem."
   ]
  },
  {
   "cell_type": "markdown",
   "metadata": {},
   "source": [
    "grep -r -i \"et\" at.txt | at.txt"
   ]
  },
  {
   "cell_type": "markdown",
   "metadata": {},
   "source": [
    "#### Cuenta el número de apariciones del string et en todos los archivos del directorio lorem-copy."
   ]
  },
  {
   "cell_type": "markdown",
   "metadata": {},
   "source": [
    "grep -r -i \"et\" lorem-copy | wc -l"
   ]
  },
  {
   "cell_type": "markdown",
   "metadata": {},
   "source": [
    "#### Almacena en una variable name tu nombre."
   ]
  },
  {
   "cell_type": "markdown",
   "metadata": {},
   "source": [
    "name=JoseManuel"
   ]
  },
  {
   "cell_type": "markdown",
   "metadata": {},
   "source": [
    "#### Imprime esa variable."
   ]
  },
  {
   "cell_type": "markdown",
   "metadata": {},
   "source": [
    "echo $name"
   ]
  },
  {
   "cell_type": "markdown",
   "metadata": {},
   "source": [
    "#### Crea un directorio nuevo que se llame como el contenido de la variable name.\n"
   ]
  },
  {
   "cell_type": "markdown",
   "metadata": {},
   "source": [
    "mkdir JoseManuel"
   ]
  },
  {
   "cell_type": "markdown",
   "metadata": {},
   "source": [
    "#### Elimina ese directorio.\n"
   ]
  },
  {
   "cell_type": "markdown",
   "metadata": {},
   "source": [
    "rmdir JoseManuel"
   ]
  },
  {
   "cell_type": "markdown",
   "metadata": {},
   "source": [
    "#### Muestra los procesos de forma jerárquica que se están ejecutando en tu ordenador: Usando el comando top o htop"
   ]
  },
  {
   "cell_type": "markdown",
   "metadata": {},
   "source": [
    "Tareas: 279 total,   1 ejecutar,  278 hibernar,    0 detener,    0 zombie"
   ]
  },
  {
   "cell_type": "markdown",
   "metadata": {},
   "source": [
    "#### Usando el comando ps con argumentos"
   ]
  },
  {
   "cell_type": "markdown",
   "metadata": {},
   "source": [
    "ps axjf"
   ]
  },
  {
   "cell_type": "markdown",
   "metadata": {},
   "source": [
    "#### Muestra información sobre tu procesador por pantalla"
   ]
  },
  {
   "cell_type": "markdown",
   "metadata": {},
   "source": [
    "uname -m\n"
   ]
  }
 ],
 "metadata": {
  "kernelspec": {
   "display_name": "Python 3",
   "language": "python",
   "name": "python3"
  },
  "language_info": {
   "codemirror_mode": {
    "name": "ipython",
    "version": 3
   },
   "file_extension": ".py",
   "mimetype": "text/x-python",
   "name": "python",
   "nbconvert_exporter": "python",
   "pygments_lexer": "ipython3",
   "version": "3.8.5"
  }
 },
 "nbformat": 4,
 "nbformat_minor": 4
}
